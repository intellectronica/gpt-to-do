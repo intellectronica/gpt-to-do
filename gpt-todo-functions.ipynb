{
 "cells": [
  {
   "attachments": {},
   "cell_type": "markdown",
   "metadata": {},
   "source": [
    "# GPT Todo List\n",
    "\n",
    "In [gpt-todo.ipynb](https://github.com/intellectronica/gpt-to-do/blob/main/gpt-todo.ipynb) we've implemented a to-do list that can be queried and modified using a chatbot. That implementation relied on LangChain's facilities for ReAct and tools. Since then, OpenAI released a new version of the GPT models that include external function calling as part of the API, and these models are now available on Azure Open AI. To put the new functionality to the test, I tried porting the example from LangChain to pure Open AI requests with function calls. As you'll see, I've been only partially successful. Even with this great new functionality, LangChain and similar libraries still have a lot to offer when it comes to orchestrating complex interactions with LLMs."
   ]
  },
  {
   "cell_type": "code",
   "execution_count": 1,
   "metadata": {},
   "outputs": [
    {
     "name": "stdout",
     "output_type": "stream",
     "text": [
      "Requirement already satisfied: pandas in /opt/homebrew/lib/python3.11/site-packages (2.0.1)\n",
      "Requirement already satisfied: openai in /opt/homebrew/lib/python3.11/site-packages (0.27.7)\n",
      "Requirement already satisfied: python-dateutil>=2.8.2 in /opt/homebrew/lib/python3.11/site-packages (from pandas) (2.8.2)\n",
      "Requirement already satisfied: pytz>=2020.1 in /opt/homebrew/lib/python3.11/site-packages (from pandas) (2023.3)\n",
      "Requirement already satisfied: tzdata>=2022.1 in /opt/homebrew/lib/python3.11/site-packages (from pandas) (2023.3)\n",
      "Requirement already satisfied: numpy>=1.21.0 in /opt/homebrew/lib/python3.11/site-packages (from pandas) (1.24.3)\n",
      "Requirement already satisfied: requests>=2.20 in /opt/homebrew/lib/python3.11/site-packages (from openai) (2.31.0)\n",
      "Requirement already satisfied: tqdm in /opt/homebrew/lib/python3.11/site-packages (from openai) (4.65.0)\n",
      "Requirement already satisfied: aiohttp in /opt/homebrew/lib/python3.11/site-packages (from openai) (3.8.4)\n",
      "Requirement already satisfied: six>=1.5 in /opt/homebrew/lib/python3.11/site-packages (from python-dateutil>=2.8.2->pandas) (1.16.0)\n",
      "Requirement already satisfied: charset-normalizer<4,>=2 in /opt/homebrew/lib/python3.11/site-packages (from requests>=2.20->openai) (3.1.0)\n",
      "Requirement already satisfied: idna<4,>=2.5 in /opt/homebrew/lib/python3.11/site-packages (from requests>=2.20->openai) (3.4)\n",
      "Requirement already satisfied: urllib3<3,>=1.21.1 in /opt/homebrew/lib/python3.11/site-packages (from requests>=2.20->openai) (1.26.15)\n",
      "Requirement already satisfied: certifi>=2017.4.17 in /opt/homebrew/lib/python3.11/site-packages (from requests>=2.20->openai) (2022.12.7)\n",
      "Requirement already satisfied: attrs>=17.3.0 in /opt/homebrew/lib/python3.11/site-packages (from aiohttp->openai) (23.1.0)\n",
      "Requirement already satisfied: multidict<7.0,>=4.5 in /opt/homebrew/lib/python3.11/site-packages (from aiohttp->openai) (6.0.4)\n",
      "Requirement already satisfied: async-timeout<5.0,>=4.0.0a3 in /opt/homebrew/lib/python3.11/site-packages (from aiohttp->openai) (4.0.2)\n",
      "Requirement already satisfied: yarl<2.0,>=1.0 in /opt/homebrew/lib/python3.11/site-packages (from aiohttp->openai) (1.9.2)\n",
      "Requirement already satisfied: frozenlist>=1.1.1 in /opt/homebrew/lib/python3.11/site-packages (from aiohttp->openai) (1.3.3)\n",
      "Requirement already satisfied: aiosignal>=1.1.2 in /opt/homebrew/lib/python3.11/site-packages (from aiohttp->openai) (1.3.1)\n",
      "\n",
      "\u001b[1m[\u001b[0m\u001b[34;49mnotice\u001b[0m\u001b[1;39;49m]\u001b[0m\u001b[39;49m A new release of pip is available: \u001b[0m\u001b[31;49m23.1.2\u001b[0m\u001b[39;49m -> \u001b[0m\u001b[32;49m23.2.1\u001b[0m\n",
      "\u001b[1m[\u001b[0m\u001b[34;49mnotice\u001b[0m\u001b[1;39;49m]\u001b[0m\u001b[39;49m To update, run: \u001b[0m\u001b[32;49mpython3.11 -m pip install --upgrade pip\u001b[0m\n"
     ]
    }
   ],
   "source": [
    "!pip install pandas openai"
   ]
  },
  {
   "cell_type": "code",
   "execution_count": 2,
   "metadata": {},
   "outputs": [],
   "source": [
    "from IPython.display import display, HTML\n",
    "from pandas import DataFrame, notnull\n",
    "\n",
    "def display_tasks(tasks):\n",
    "    \"Display a list of tasks in a nice table\"\n",
    "    df = DataFrame(tasks)\n",
    "    df.drop('id', axis=1, inplace=True)\n",
    "    df['done'] = df['done'].apply(lambda x: '☑' if x else '☐')\n",
    "    df['due'] = df['due'].apply(lambda x: x or '')\n",
    "    df['priority'] = df['priority'].apply(lambda x: str(int(x)) if notnull(x) else '')\n",
    "    display(HTML(df.to_html(index=False)))"
   ]
  },
  {
   "attachments": {},
   "cell_type": "markdown",
   "metadata": {},
   "source": [
    "We import the ToDoList object, and demonstrate a few simple actions by calling its methods directly and displaying the resulting list."
   ]
  },
  {
   "cell_type": "code",
   "execution_count": 3,
   "metadata": {},
   "outputs": [
    {
     "name": "stdout",
     "output_type": "stream",
     "text": [
      "All tasks:\n"
     ]
    },
    {
     "data": {
      "text/html": [
       "<table border=\"1\" class=\"dataframe\">\n",
       "  <thead>\n",
       "    <tr style=\"text-align: right;\">\n",
       "      <th>done</th>\n",
       "      <th>description</th>\n",
       "      <th>due</th>\n",
       "      <th>priority</th>\n",
       "    </tr>\n",
       "  </thead>\n",
       "  <tbody>\n",
       "    <tr>\n",
       "      <td>☐</td>\n",
       "      <td>Buy milk</td>\n",
       "      <td></td>\n",
       "      <td>1</td>\n",
       "    </tr>\n",
       "    <tr>\n",
       "      <td>☐</td>\n",
       "      <td>Complete project</td>\n",
       "      <td>2023-05-10</td>\n",
       "      <td>2</td>\n",
       "    </tr>\n",
       "    <tr>\n",
       "      <td>☐</td>\n",
       "      <td>Call wife</td>\n",
       "      <td>2023-05-08</td>\n",
       "      <td></td>\n",
       "    </tr>\n",
       "    <tr>\n",
       "      <td>☐</td>\n",
       "      <td>Buy groceries</td>\n",
       "      <td>2023-05-09</td>\n",
       "      <td>3</td>\n",
       "    </tr>\n",
       "    <tr>\n",
       "      <td>☑</td>\n",
       "      <td>Put out fire</td>\n",
       "      <td>2023-05-07</td>\n",
       "      <td>0</td>\n",
       "    </tr>\n",
       "    <tr>\n",
       "      <td>☑</td>\n",
       "      <td>Go for a walk</td>\n",
       "      <td>2023-05-06</td>\n",
       "      <td>3</td>\n",
       "    </tr>\n",
       "  </tbody>\n",
       "</table>"
      ],
      "text/plain": [
       "<IPython.core.display.HTML object>"
      ]
     },
     "metadata": {},
     "output_type": "display_data"
    },
    {
     "name": "stdout",
     "output_type": "stream",
     "text": [
      "Tasks sorted by due date:\n"
     ]
    },
    {
     "data": {
      "text/html": [
       "<table border=\"1\" class=\"dataframe\">\n",
       "  <thead>\n",
       "    <tr style=\"text-align: right;\">\n",
       "      <th>done</th>\n",
       "      <th>description</th>\n",
       "      <th>due</th>\n",
       "      <th>priority</th>\n",
       "    </tr>\n",
       "  </thead>\n",
       "  <tbody>\n",
       "    <tr>\n",
       "      <td>☑</td>\n",
       "      <td>Go for a walk</td>\n",
       "      <td>2023-05-06</td>\n",
       "      <td>3</td>\n",
       "    </tr>\n",
       "    <tr>\n",
       "      <td>☑</td>\n",
       "      <td>Put out fire</td>\n",
       "      <td>2023-05-07</td>\n",
       "      <td>0</td>\n",
       "    </tr>\n",
       "    <tr>\n",
       "      <td>☐</td>\n",
       "      <td>Call wife</td>\n",
       "      <td>2023-05-08</td>\n",
       "      <td></td>\n",
       "    </tr>\n",
       "    <tr>\n",
       "      <td>☐</td>\n",
       "      <td>Buy groceries</td>\n",
       "      <td>2023-05-09</td>\n",
       "      <td>3</td>\n",
       "    </tr>\n",
       "    <tr>\n",
       "      <td>☐</td>\n",
       "      <td>Complete project</td>\n",
       "      <td>2023-05-10</td>\n",
       "      <td>2</td>\n",
       "    </tr>\n",
       "    <tr>\n",
       "      <td>☐</td>\n",
       "      <td>Buy milk</td>\n",
       "      <td></td>\n",
       "      <td>1</td>\n",
       "    </tr>\n",
       "  </tbody>\n",
       "</table>"
      ],
      "text/plain": [
       "<IPython.core.display.HTML object>"
      ]
     },
     "metadata": {},
     "output_type": "display_data"
    },
    {
     "name": "stdout",
     "output_type": "stream",
     "text": [
      "Tasks sorted by priority and then by due date:\n"
     ]
    },
    {
     "data": {
      "text/html": [
       "<table border=\"1\" class=\"dataframe\">\n",
       "  <thead>\n",
       "    <tr style=\"text-align: right;\">\n",
       "      <th>done</th>\n",
       "      <th>description</th>\n",
       "      <th>due</th>\n",
       "      <th>priority</th>\n",
       "    </tr>\n",
       "  </thead>\n",
       "  <tbody>\n",
       "    <tr>\n",
       "      <td>☑</td>\n",
       "      <td>Put out fire</td>\n",
       "      <td>2023-05-07</td>\n",
       "      <td>0</td>\n",
       "    </tr>\n",
       "    <tr>\n",
       "      <td>☐</td>\n",
       "      <td>Buy milk</td>\n",
       "      <td></td>\n",
       "      <td>1</td>\n",
       "    </tr>\n",
       "    <tr>\n",
       "      <td>☐</td>\n",
       "      <td>Complete project</td>\n",
       "      <td>2023-05-10</td>\n",
       "      <td>2</td>\n",
       "    </tr>\n",
       "    <tr>\n",
       "      <td>☑</td>\n",
       "      <td>Go for a walk</td>\n",
       "      <td>2023-05-06</td>\n",
       "      <td>3</td>\n",
       "    </tr>\n",
       "    <tr>\n",
       "      <td>☐</td>\n",
       "      <td>Buy groceries</td>\n",
       "      <td>2023-05-09</td>\n",
       "      <td>3</td>\n",
       "    </tr>\n",
       "    <tr>\n",
       "      <td>☐</td>\n",
       "      <td>Call wife</td>\n",
       "      <td>2023-05-08</td>\n",
       "      <td></td>\n",
       "    </tr>\n",
       "  </tbody>\n",
       "</table>"
      ],
      "text/plain": [
       "<IPython.core.display.HTML object>"
      ]
     },
     "metadata": {},
     "output_type": "display_data"
    },
    {
     "name": "stdout",
     "output_type": "stream",
     "text": [
      "Priority 1 tasks:\n"
     ]
    },
    {
     "data": {
      "text/html": [
       "<table border=\"1\" class=\"dataframe\">\n",
       "  <thead>\n",
       "    <tr style=\"text-align: right;\">\n",
       "      <th>done</th>\n",
       "      <th>description</th>\n",
       "      <th>due</th>\n",
       "      <th>priority</th>\n",
       "    </tr>\n",
       "  </thead>\n",
       "  <tbody>\n",
       "    <tr>\n",
       "      <td>☐</td>\n",
       "      <td>Buy milk</td>\n",
       "      <td></td>\n",
       "      <td>1</td>\n",
       "    </tr>\n",
       "  </tbody>\n",
       "</table>"
      ],
      "text/plain": [
       "<IPython.core.display.HTML object>"
      ]
     },
     "metadata": {},
     "output_type": "display_data"
    },
    {
     "name": "stdout",
     "output_type": "stream",
     "text": [
      "Completed tasks:\n"
     ]
    },
    {
     "data": {
      "text/html": [
       "<table border=\"1\" class=\"dataframe\">\n",
       "  <thead>\n",
       "    <tr style=\"text-align: right;\">\n",
       "      <th>done</th>\n",
       "      <th>description</th>\n",
       "      <th>due</th>\n",
       "      <th>priority</th>\n",
       "    </tr>\n",
       "  </thead>\n",
       "  <tbody>\n",
       "    <tr>\n",
       "      <td>☑</td>\n",
       "      <td>Put out fire</td>\n",
       "      <td>2023-05-07</td>\n",
       "      <td>0</td>\n",
       "    </tr>\n",
       "    <tr>\n",
       "      <td>☑</td>\n",
       "      <td>Go for a walk</td>\n",
       "      <td>2023-05-06</td>\n",
       "      <td>3</td>\n",
       "    </tr>\n",
       "  </tbody>\n",
       "</table>"
      ],
      "text/plain": [
       "<IPython.core.display.HTML object>"
      ]
     },
     "metadata": {},
     "output_type": "display_data"
    },
    {
     "name": "stdout",
     "output_type": "stream",
     "text": [
      "Tasks after deleting task2:\n"
     ]
    },
    {
     "data": {
      "text/html": [
       "<table border=\"1\" class=\"dataframe\">\n",
       "  <thead>\n",
       "    <tr style=\"text-align: right;\">\n",
       "      <th>done</th>\n",
       "      <th>description</th>\n",
       "      <th>due</th>\n",
       "      <th>priority</th>\n",
       "    </tr>\n",
       "  </thead>\n",
       "  <tbody>\n",
       "    <tr>\n",
       "      <td>☑</td>\n",
       "      <td>Put out fire</td>\n",
       "      <td>2023-05-07</td>\n",
       "      <td>0</td>\n",
       "    </tr>\n",
       "    <tr>\n",
       "      <td>☐</td>\n",
       "      <td>Buy milk</td>\n",
       "      <td></td>\n",
       "      <td>1</td>\n",
       "    </tr>\n",
       "    <tr>\n",
       "      <td>☑</td>\n",
       "      <td>Go for a walk</td>\n",
       "      <td>2023-05-06</td>\n",
       "      <td>3</td>\n",
       "    </tr>\n",
       "    <tr>\n",
       "      <td>☐</td>\n",
       "      <td>Buy groceries</td>\n",
       "      <td>2023-05-09</td>\n",
       "      <td>3</td>\n",
       "    </tr>\n",
       "    <tr>\n",
       "      <td>☐</td>\n",
       "      <td>Call wife</td>\n",
       "      <td>2023-05-08</td>\n",
       "      <td></td>\n",
       "    </tr>\n",
       "  </tbody>\n",
       "</table>"
      ],
      "text/plain": [
       "<IPython.core.display.HTML object>"
      ]
     },
     "metadata": {},
     "output_type": "display_data"
    }
   ],
   "source": [
    "from todo import ToDoList\n",
    "from datetime import date\n",
    "\n",
    "todo_list = ToDoList()\n",
    "task1 = todo_list.add(\"Buy milk\", priority=1)\n",
    "task2 = todo_list.add(\"Complete project\", \"2023-05-10\", priority=2)\n",
    "task3 = todo_list.add(\"Call wife\", \"2023-05-08\")\n",
    "task4 = todo_list.add(\"Buy groceries\", \"2023-05-09\", priority=3)\n",
    "task5 = todo_list.add(\"Put out fire\", \"2023-05-07\", priority=0)\n",
    "todo_list.update(task5['id'], done=True)\n",
    "task6 = todo_list.add(\"Go for a walk\", \"2023-05-06\", priority=3)\n",
    "todo_list.update(task6['id'], done=True)\n",
    "\n",
    "\n",
    "print(\"All tasks:\")\n",
    "display_tasks(todo_list.get())\n",
    "\n",
    "print(\"Tasks sorted by due date:\")\n",
    "display_tasks(todo_list.get(sort='due'))\n",
    "\n",
    "print(\"Tasks sorted by priority and then by due date:\")\n",
    "display_tasks(todo_list.get(sort=['priority', 'due']))\n",
    "\n",
    "print(\"Priority 1 tasks:\")\n",
    "display_tasks(todo_list.get(priority=1))\n",
    "\n",
    "print(\"Completed tasks:\")\n",
    "display_tasks(todo_list.get(done=True))\n",
    "\n",
    "todo_list.delete(task2['id'])\n",
    "print(\"Tasks after deleting task2:\")\n",
    "display_tasks(todo_list.get())"
   ]
  },
  {
   "attachments": {},
   "cell_type": "markdown",
   "metadata": {},
   "source": [
    "Alright, time to create a user interface, which in this case means configuring a chatbot to interact with the to-do list on our behalf. We configure the Azure OpenAI gpt-3.5-turbo model, with the July release, which includes native function calling. We then define a function for each method ot the the to-do list, which we'll include in the calls to the LLM."
   ]
  },
  {
   "cell_type": "code",
   "execution_count": 4,
   "metadata": {},
   "outputs": [],
   "source": [
    "import os\n",
    "\n",
    "os.environ['OPENAI_API_KEY'] = ' ... ' # Replace with the URL of an Azure OpenAI gpt-3.5-turbo deployment\n",
    "os.environ['OPENAI_API_BASE'] = ' ... ' # Replace with the corresponding API key\n",
    "os.environ['OPENAI_API_TYPE'] = 'azure'\n",
    "os.environ['OPENAI_API_VERSION'] = '2023-07-01-preview'\n",
    "\n",
    "deployment_name = 'gpt-35-turbo' # Replace if using a different deployment name"
   ]
  },
  {
   "cell_type": "code",
   "execution_count": 5,
   "metadata": {},
   "outputs": [],
   "source": [
    "from typing import List, Optional, Dict, Union\n",
    "import json\n",
    "\n",
    "todo_functions = []\n",
    "\n",
    "def todo_get(done: Optional[bool] = None, priority: Optional[int] = None, sort: Optional[Union[str, List[str]]] = None) -> str:\n",
    "    \"\"\"Read tasks from the todo list, whenever asked\n",
    "    by the user about their tasks, or when you need to locate tasks by criteria.\n",
    "    You can run the function with no parameters to get all tasks currently in the list,\n",
    "    or pass one or more of the following parameters to filter the tasks: done - True or False,\n",
    "    priority - 0, 1, 2, or 3,  sort - 'due', 'priority', or ['priority', 'due'].\n",
    "    \"\"\"\n",
    "    tasks = todo_list.get(done, priority, sort)\n",
    "    return \"Tasks:\\n\" + json.dumps(tasks, indent=2)\n",
    "\n",
    "todo_functions.append({\n",
    "    'name': 'todo_get',\n",
    "    'description': todo_get.__doc__,\n",
    "    'parameters':{\n",
    "        'type': 'object',\n",
    "        'properties': {\n",
    "            'done': {\n",
    "                'type': 'boolean',\n",
    "                'description': 'is the task marked as done?',\n",
    "            },\n",
    "            'priority': {\n",
    "                'type': 'integer',\n",
    "                'description': 'the priority of the task',\n",
    "            },\n",
    "            'sort': {\n",
    "                'oneOf': [\n",
    "                    {'type': 'string'},\n",
    "                    {'type': 'array', 'items': {'type': 'string'}},\n",
    "                ],\n",
    "                'description': (\n",
    "                    'the sort order of the tasks as the string \"due\" or \"priority\", '\n",
    "                    'or a list of \"due\" and/or \"priority'\n",
    "                ),\n",
    "            },\n",
    "        },\n",
    "    }\n",
    "})\n",
    "\n",
    "def todo_add(description: str, due: Optional[str] = None, priority: Optional[int] = None) -> str:\n",
    "    \"\"\"Add a task to the todo list, whenever requested by the user.\n",
    "    You must provide a description for the task, and optionally a due date and a priority.\n",
    "    \"\"\"\n",
    "    task = todo_list.add(description, due, priority)\n",
    "    return \"Added task:\\n\" + json.dumps(task, indent=2)\n",
    "\n",
    "todo_functions.append({\n",
    "    'name': 'todo_add',\n",
    "    'description': todo_add.__doc__,\n",
    "    'parameters':{\n",
    "        'type': 'object',\n",
    "        'properties': {\n",
    "            'description': {\n",
    "                'type': 'string',\n",
    "                'description': 'date when the task is due, in the format YYYY-MM-DD',\n",
    "            },\n",
    "            'due': {\n",
    "                'type': 'string',\n",
    "                'description': 'the sort order of the tasks, comma-separated list of \"due\" and/or \"priority\"',\n",
    "            },\n",
    "            'priority': {\n",
    "                'type': 'integer',\n",
    "                'description': 'the priority of the task',\n",
    "            },\n",
    "        },\n",
    "    }\n",
    "})\n",
    "\n",
    "def todo_delete(task_id: str) -> str:\n",
    "    \"\"\"Delete a task from the todo list, whenever requested by the user.\n",
    "    You must provide the ID of the task to delete.\n",
    "    If you are not sure of the ID, you can use the todo_get tool to locate the tasks\n",
    "    you want to delete and read their IDs.\n",
    "    \"\"\"\n",
    "    result = todo_list.delete(task_id)\n",
    "    return \"Result:\\n\" + json.dumps({'deleted': result}, indent=2)\n",
    "\n",
    "todo_functions.append({\n",
    "    'name': 'todo_delete',\n",
    "    'description': todo_delete.__doc__,\n",
    "    'parameters':{\n",
    "        'type': 'object',\n",
    "        'properties': {\n",
    "            'task_id': {\n",
    "                'type': 'string',\n",
    "                'description': 'ID of the task to delete',\n",
    "            },\n",
    "        },\n",
    "    }\n",
    "})\n",
    "\n",
    "def todo_update(task_id: str, done: Optional[bool] = None, description: Optional[str] = None,\n",
    "                due: Optional[str] = None, priority: Optional[int] = None) -> str:\n",
    "    \"\"\"Modify a task in the todo list, whenever requested by the user.\n",
    "    You must provide the ID of the task to update, and optionally any of the following\n",
    "    parameters to modify the task: done - True or False, description - a new description\n",
    "    for the task, due - a new due date for the task, priority - a new priority for the task\n",
    "\n",
    "    If you are not sure of the ID, you can use the `todo_get` function to locate the tasks\n",
    "    you want to update and read their IDs.\n",
    "    \"\"\"\n",
    "    task = todo_list.update(task_id, done, description, due, priority)\n",
    "    return \"Updated task:\\n\" + json.dumps(task, indent=2)\n",
    "\n",
    "todo_functions.append({\n",
    "    'name': 'todo_update',\n",
    "    'description': todo_update.__doc__,\n",
    "    'parameters':{\n",
    "        'type': 'object',\n",
    "        'properties': {\n",
    "            'task_id': {\n",
    "                'type': 'string',\n",
    "                'description': 'ID of the task to delete',\n",
    "            },\n",
    "            'done': {\n",
    "                'type': 'boolean',\n",
    "                'description': 'is the task marked as done?',\n",
    "            },\n",
    "            'description': {\n",
    "                'type': 'string',\n",
    "                'description': 'date when the task is due, in the format YYYY-MM-DD',\n",
    "            },\n",
    "            'due': {\n",
    "                'type': 'string',\n",
    "                'description': 'the sort order of the tasks, comma-separated list of \"due\" and/or \"priority\"',\n",
    "            },\n",
    "            'priority': {\n",
    "                'type': 'integer',\n",
    "                'description': 'the priority of the task',\n",
    "            },\n",
    "        },\n",
    "    }\n",
    "})"
   ]
  },
  {
   "cell_type": "code",
   "execution_count": 6,
   "metadata": {},
   "outputs": [],
   "source": [
    "import openai, json\n",
    "\n",
    "def todo_chat(question):\n",
    "  \"Chat with the todo-list agent and display the result and the current state of the to-do list.\"\n",
    "  messages = [\n",
    "    {'role': 'system', 'content': (\n",
    "      'You are a todo-list agent. You maintain a list of tasks that you can query, add, '\n",
    "      'or modify, using function calls. '\n",
    "      'The user will ask questions about their task list, or ask you to make changes to it. '\n",
    "      'Use functions to interact with the list and follow the user\\'s instructions. '\n",
    "      'Some requests from the user may require multiple function calls. For example, '\n",
    "      'You may need to call the `todo_get` function to get the list of tasks with their IDs, '\n",
    "      'then call the `todo_delete` function to delete a task by ID or `todo_update` to '\n",
    "      'modify a task.'\n",
    "    )},\n",
    "    {'role': 'user', 'content': question},\n",
    "  ]\n",
    "  response = openai.ChatCompletion.create(\n",
    "    engine=deployment_name,\n",
    "    messages=messages,\n",
    "    functions=todo_functions,\n",
    "    function_call=\"auto\", \n",
    "  )\n",
    "  response_message = response['choices'][0]['message']\n",
    "  while response_message.get('function_call'):\n",
    "    print('{function_name}({function_args})'.format(\n",
    "      function_name=response_message['function_call']['name'],\n",
    "      function_args=json.loads(response_message['function_call']['arguments'])\n",
    "    ))\n",
    "    func = globals()[response_message['function_call']['name']]\n",
    "    args = json.loads(response_message['function_call']['arguments'])\n",
    "    retval = func(**args)\n",
    "    messages.append({\n",
    "      'role': 'assistant',\n",
    "      'name': response_message['function_call']['name'],\n",
    "      'content': response_message['function_call']['arguments'],\n",
    "    })\n",
    "    messages.append({\n",
    "      'role': 'function',\n",
    "      'name': response_message['function_call']['name'],\n",
    "      'content': retval,\n",
    "    })\n",
    "    response = openai.ChatCompletion.create(\n",
    "      engine=deployment_name,\n",
    "      messages=messages,\n",
    "    )\n",
    "    response_message = response['choices'][0]['message']\n",
    "  answer = response_message['content']\n",
    "  print('Question: ' + question)\n",
    "  print('Answer:')\n",
    "  print(answer)\n",
    "  print('Debug:')\n",
    "  display_tasks(todo_list.get())  "
   ]
  },
  {
   "attachments": {},
   "cell_type": "markdown",
   "metadata": {},
   "source": [
    "Cool, we've got everything ready. Let's make a few requests to the to-do list agent to see it in action!"
   ]
  },
  {
   "cell_type": "code",
   "execution_count": 7,
   "metadata": {},
   "outputs": [
    {
     "name": "stdout",
     "output_type": "stream",
     "text": [
      "todo_add({'description': 'do the dishes', 'due': 'today'})\n",
      "Question: Add a task to do the dishes today.\n",
      "Answer:\n",
      "I have added a task to do the dishes today.\n",
      "Debug:\n"
     ]
    },
    {
     "data": {
      "text/html": [
       "<table border=\"1\" class=\"dataframe\">\n",
       "  <thead>\n",
       "    <tr style=\"text-align: right;\">\n",
       "      <th>done</th>\n",
       "      <th>description</th>\n",
       "      <th>due</th>\n",
       "      <th>priority</th>\n",
       "    </tr>\n",
       "  </thead>\n",
       "  <tbody>\n",
       "    <tr>\n",
       "      <td>☑</td>\n",
       "      <td>Put out fire</td>\n",
       "      <td>2023-05-07</td>\n",
       "      <td>0</td>\n",
       "    </tr>\n",
       "    <tr>\n",
       "      <td>☐</td>\n",
       "      <td>Buy milk</td>\n",
       "      <td></td>\n",
       "      <td>1</td>\n",
       "    </tr>\n",
       "    <tr>\n",
       "      <td>☑</td>\n",
       "      <td>Go for a walk</td>\n",
       "      <td>2023-05-06</td>\n",
       "      <td>3</td>\n",
       "    </tr>\n",
       "    <tr>\n",
       "      <td>☐</td>\n",
       "      <td>Buy groceries</td>\n",
       "      <td>2023-05-09</td>\n",
       "      <td>3</td>\n",
       "    </tr>\n",
       "    <tr>\n",
       "      <td>☐</td>\n",
       "      <td>Call wife</td>\n",
       "      <td>2023-05-08</td>\n",
       "      <td></td>\n",
       "    </tr>\n",
       "    <tr>\n",
       "      <td>☐</td>\n",
       "      <td>do the dishes</td>\n",
       "      <td>2023-07-28</td>\n",
       "      <td></td>\n",
       "    </tr>\n",
       "  </tbody>\n",
       "</table>"
      ],
      "text/plain": [
       "<IPython.core.display.HTML object>"
      ]
     },
     "metadata": {},
     "output_type": "display_data"
    }
   ],
   "source": [
    "todo_chat(\"Add a task to do the dishes today.\")"
   ]
  },
  {
   "cell_type": "code",
   "execution_count": 8,
   "metadata": {},
   "outputs": [
    {
     "name": "stdout",
     "output_type": "stream",
     "text": [
      "todo_get({})\n",
      "Question: Find the id of the task 'Buy milk' and update it to mark it as complete.\n",
      "Answer:\n",
      "The ID of the task 'Buy milk' is c962df6a-bcdb-4b0b-9c6e-a92ad56e01b7. Let me mark it as complete.\n",
      "Debug:\n"
     ]
    },
    {
     "data": {
      "text/html": [
       "<table border=\"1\" class=\"dataframe\">\n",
       "  <thead>\n",
       "    <tr style=\"text-align: right;\">\n",
       "      <th>done</th>\n",
       "      <th>description</th>\n",
       "      <th>due</th>\n",
       "      <th>priority</th>\n",
       "    </tr>\n",
       "  </thead>\n",
       "  <tbody>\n",
       "    <tr>\n",
       "      <td>☑</td>\n",
       "      <td>Put out fire</td>\n",
       "      <td>2023-05-07</td>\n",
       "      <td>0</td>\n",
       "    </tr>\n",
       "    <tr>\n",
       "      <td>☐</td>\n",
       "      <td>Buy milk</td>\n",
       "      <td></td>\n",
       "      <td>1</td>\n",
       "    </tr>\n",
       "    <tr>\n",
       "      <td>☑</td>\n",
       "      <td>Go for a walk</td>\n",
       "      <td>2023-05-06</td>\n",
       "      <td>3</td>\n",
       "    </tr>\n",
       "    <tr>\n",
       "      <td>☐</td>\n",
       "      <td>Buy groceries</td>\n",
       "      <td>2023-05-09</td>\n",
       "      <td>3</td>\n",
       "    </tr>\n",
       "    <tr>\n",
       "      <td>☐</td>\n",
       "      <td>Call wife</td>\n",
       "      <td>2023-05-08</td>\n",
       "      <td></td>\n",
       "    </tr>\n",
       "    <tr>\n",
       "      <td>☐</td>\n",
       "      <td>do the dishes</td>\n",
       "      <td>2023-07-28</td>\n",
       "      <td></td>\n",
       "    </tr>\n",
       "  </tbody>\n",
       "</table>"
      ],
      "text/plain": [
       "<IPython.core.display.HTML object>"
      ]
     },
     "metadata": {},
     "output_type": "display_data"
    }
   ],
   "source": [
    "todo_chat(\"Find the id of the task 'Buy milk' and update it to mark it as complete.\")"
   ]
  },
  {
   "cell_type": "markdown",
   "metadata": {},
   "source": [
    "(!!!) FAIL : when a request requires multiple function calls, the assistant responds with the first request, and then doesn't call the next function, so the request is not fulfilled."
   ]
  },
  {
   "cell_type": "code",
   "execution_count": 9,
   "metadata": {},
   "outputs": [
    {
     "name": "stdout",
     "output_type": "stream",
     "text": [
      "todo_get({'done': False})\n",
      "Question: What are all the tasks in the list that are incomplete?\n",
      "Answer:\n",
      "The tasks that are incomplete are:\n",
      "\n",
      "1. Buy milk\n",
      "2. Buy groceries\n",
      "3. Call wife\n",
      "4. Do the dishes\n",
      "Debug:\n"
     ]
    },
    {
     "data": {
      "text/html": [
       "<table border=\"1\" class=\"dataframe\">\n",
       "  <thead>\n",
       "    <tr style=\"text-align: right;\">\n",
       "      <th>done</th>\n",
       "      <th>description</th>\n",
       "      <th>due</th>\n",
       "      <th>priority</th>\n",
       "    </tr>\n",
       "  </thead>\n",
       "  <tbody>\n",
       "    <tr>\n",
       "      <td>☑</td>\n",
       "      <td>Put out fire</td>\n",
       "      <td>2023-05-07</td>\n",
       "      <td>0</td>\n",
       "    </tr>\n",
       "    <tr>\n",
       "      <td>☐</td>\n",
       "      <td>Buy milk</td>\n",
       "      <td></td>\n",
       "      <td>1</td>\n",
       "    </tr>\n",
       "    <tr>\n",
       "      <td>☑</td>\n",
       "      <td>Go for a walk</td>\n",
       "      <td>2023-05-06</td>\n",
       "      <td>3</td>\n",
       "    </tr>\n",
       "    <tr>\n",
       "      <td>☐</td>\n",
       "      <td>Buy groceries</td>\n",
       "      <td>2023-05-09</td>\n",
       "      <td>3</td>\n",
       "    </tr>\n",
       "    <tr>\n",
       "      <td>☐</td>\n",
       "      <td>Call wife</td>\n",
       "      <td>2023-05-08</td>\n",
       "      <td></td>\n",
       "    </tr>\n",
       "    <tr>\n",
       "      <td>☐</td>\n",
       "      <td>do the dishes</td>\n",
       "      <td>2023-07-28</td>\n",
       "      <td></td>\n",
       "    </tr>\n",
       "  </tbody>\n",
       "</table>"
      ],
      "text/plain": [
       "<IPython.core.display.HTML object>"
      ]
     },
     "metadata": {},
     "output_type": "display_data"
    }
   ],
   "source": [
    "todo_chat(\"What are all the tasks in the list that are incomplete?\")"
   ]
  },
  {
   "cell_type": "code",
   "execution_count": 10,
   "metadata": {},
   "outputs": [
    {
     "name": "stdout",
     "output_type": "stream",
     "text": [
      "todo_get({'priority': 3})\n",
      "Question: Which tasks have priority 3?\n",
      "Answer:\n",
      "The tasks with priority 3 are:\n",
      "\n",
      "1. Task ID: 2ecc52e1-65db-47cc-abec-74430307caa1\n",
      "   Description: Go for a walk\n",
      "   Due date: 2023-05-06\n",
      "   Status: Done\n",
      "\n",
      "2. Task ID: 29d5f622-5022-4899-88ab-3fa567bdcae7\n",
      "   Description: Buy groceries\n",
      "   Due date: 2023-05-09\n",
      "   Status: Not done\n",
      "Debug:\n"
     ]
    },
    {
     "data": {
      "text/html": [
       "<table border=\"1\" class=\"dataframe\">\n",
       "  <thead>\n",
       "    <tr style=\"text-align: right;\">\n",
       "      <th>done</th>\n",
       "      <th>description</th>\n",
       "      <th>due</th>\n",
       "      <th>priority</th>\n",
       "    </tr>\n",
       "  </thead>\n",
       "  <tbody>\n",
       "    <tr>\n",
       "      <td>☑</td>\n",
       "      <td>Put out fire</td>\n",
       "      <td>2023-05-07</td>\n",
       "      <td>0</td>\n",
       "    </tr>\n",
       "    <tr>\n",
       "      <td>☐</td>\n",
       "      <td>Buy milk</td>\n",
       "      <td></td>\n",
       "      <td>1</td>\n",
       "    </tr>\n",
       "    <tr>\n",
       "      <td>☑</td>\n",
       "      <td>Go for a walk</td>\n",
       "      <td>2023-05-06</td>\n",
       "      <td>3</td>\n",
       "    </tr>\n",
       "    <tr>\n",
       "      <td>☐</td>\n",
       "      <td>Buy groceries</td>\n",
       "      <td>2023-05-09</td>\n",
       "      <td>3</td>\n",
       "    </tr>\n",
       "    <tr>\n",
       "      <td>☐</td>\n",
       "      <td>Call wife</td>\n",
       "      <td>2023-05-08</td>\n",
       "      <td></td>\n",
       "    </tr>\n",
       "    <tr>\n",
       "      <td>☐</td>\n",
       "      <td>do the dishes</td>\n",
       "      <td>2023-07-28</td>\n",
       "      <td></td>\n",
       "    </tr>\n",
       "  </tbody>\n",
       "</table>"
      ],
      "text/plain": [
       "<IPython.core.display.HTML object>"
      ]
     },
     "metadata": {},
     "output_type": "display_data"
    }
   ],
   "source": [
    "todo_chat(\"Which tasks have priority 3?\")"
   ]
  },
  {
   "cell_type": "code",
   "execution_count": 11,
   "metadata": {},
   "outputs": [
    {
     "name": "stdout",
     "output_type": "stream",
     "text": [
      "todo_get({'done': True, 'priority': 0})\n",
      "Question: Delete a task that is complete and has priority 0.\n",
      "Answer:\n",
      "The only task that is complete and has priority 0 is the task with the ID \"ee6370d2-44fd-4a3e-8bf9-ebbe99699f85\". Would you like me to delete this task?\n",
      "Debug:\n"
     ]
    },
    {
     "data": {
      "text/html": [
       "<table border=\"1\" class=\"dataframe\">\n",
       "  <thead>\n",
       "    <tr style=\"text-align: right;\">\n",
       "      <th>done</th>\n",
       "      <th>description</th>\n",
       "      <th>due</th>\n",
       "      <th>priority</th>\n",
       "    </tr>\n",
       "  </thead>\n",
       "  <tbody>\n",
       "    <tr>\n",
       "      <td>☑</td>\n",
       "      <td>Put out fire</td>\n",
       "      <td>2023-05-07</td>\n",
       "      <td>0</td>\n",
       "    </tr>\n",
       "    <tr>\n",
       "      <td>☐</td>\n",
       "      <td>Buy milk</td>\n",
       "      <td></td>\n",
       "      <td>1</td>\n",
       "    </tr>\n",
       "    <tr>\n",
       "      <td>☑</td>\n",
       "      <td>Go for a walk</td>\n",
       "      <td>2023-05-06</td>\n",
       "      <td>3</td>\n",
       "    </tr>\n",
       "    <tr>\n",
       "      <td>☐</td>\n",
       "      <td>Buy groceries</td>\n",
       "      <td>2023-05-09</td>\n",
       "      <td>3</td>\n",
       "    </tr>\n",
       "    <tr>\n",
       "      <td>☐</td>\n",
       "      <td>Call wife</td>\n",
       "      <td>2023-05-08</td>\n",
       "      <td></td>\n",
       "    </tr>\n",
       "    <tr>\n",
       "      <td>☐</td>\n",
       "      <td>do the dishes</td>\n",
       "      <td>2023-07-28</td>\n",
       "      <td></td>\n",
       "    </tr>\n",
       "  </tbody>\n",
       "</table>"
      ],
      "text/plain": [
       "<IPython.core.display.HTML object>"
      ]
     },
     "metadata": {},
     "output_type": "display_data"
    }
   ],
   "source": [
    "todo_chat(\"Delete a task that is complete and has priority 0.\")"
   ]
  },
  {
   "cell_type": "markdown",
   "metadata": {},
   "source": [
    "(!!!) FAIL : once again, when a request requires multiple function calls, the assistant responds after the first one and doesn't continue to execute the second function, and the original request isn't completed."
   ]
  },
  {
   "cell_type": "markdown",
   "metadata": {},
   "source": [
    "In summary: function calling is easy to use and works accurately, making it easy to get GPT to make use of external functions. Where things get difficult is when we need to orchestrate complex, multi-step, interactions. Without the support of an orchestration library with an implementation of a chaining technique like ReAct, we are limited to single-shot interactions (despite some minimal attempts to instruct the model using the system message)."
   ]
  }
 ],
 "metadata": {
  "kernelspec": {
   "display_name": "Python 3",
   "language": "python",
   "name": "python3"
  },
  "language_info": {
   "codemirror_mode": {
    "name": "ipython",
    "version": 3
   },
   "file_extension": ".py",
   "mimetype": "text/x-python",
   "name": "python",
   "nbconvert_exporter": "python",
   "pygments_lexer": "ipython3",
   "version": "3.11.3"
  },
  "orig_nbformat": 4
 },
 "nbformat": 4,
 "nbformat_minor": 2
}
